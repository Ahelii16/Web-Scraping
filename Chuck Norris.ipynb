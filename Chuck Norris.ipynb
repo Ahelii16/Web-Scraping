{
 "cells": [
  {
   "cell_type": "code",
   "execution_count": 4,
   "metadata": {},
   "outputs": [],
   "source": [
    "from urllib.request import urlopen"
   ]
  },
  {
   "cell_type": "code",
   "execution_count": 5,
   "metadata": {},
   "outputs": [],
   "source": [
    "import json"
   ]
  },
  {
   "cell_type": "code",
   "execution_count": 7,
   "metadata": {},
   "outputs": [],
   "source": [
    "column_titles = [\"ID\", \"Joke\"]\n",
    "ID_s = [1, 2, 3, 4, 5, 6, 12, 13, 14, 15]\n",
    "filename = 'chuck_norris_result.csv'\n",
    "\n",
    "with open(filename, \"w\", encoding = \"utf-8\") as f:\n",
    "    header_str = ','.join(column_titles)\n",
    "    header_str += '\\n'\n",
    "    f.write(header_str)\n",
    "    \n",
    "    for i in ID_s:\n",
    "        row_str = \"\"\n",
    "        url = \"http://api.icndb.com/jokes/\" + str(i)\n",
    "        url_result = urlopen(url).read()\n",
    "        json_data = json.loads(url_result.decode(\"utf-8\"))\n",
    "        \n",
    "        row_str += str(i) + \",\"\n",
    "        w = json_data['value']['joke']\n",
    "        w = w.replace(',', '')\n",
    "        row_str += w + '\\n'\n",
    "        f.write(row_str)"
   ]
  },
  {
   "cell_type": "code",
   "execution_count": null,
   "metadata": {},
   "outputs": [],
   "source": []
  }
 ],
 "metadata": {
  "kernelspec": {
   "display_name": "Python 3",
   "language": "python",
   "name": "python3"
  },
  "language_info": {
   "codemirror_mode": {
    "name": "ipython",
    "version": 3
   },
   "file_extension": ".py",
   "mimetype": "text/x-python",
   "name": "python",
   "nbconvert_exporter": "python",
   "pygments_lexer": "ipython3",
   "version": "3.6.8"
  }
 },
 "nbformat": 4,
 "nbformat_minor": 2
}
